{
  "nbformat": 4,
  "nbformat_minor": 0,
  "metadata": {
    "colab": {
      "name": "Pokemon Data.ipynb",
      "version": "0.3.2",
      "provenance": []
    },
    "kernelspec": {
      "name": "python3",
      "display_name": "Python 3"
    },
    "accelerator": "GPU"
  },
  "cells": [
    {
      "cell_type": "code",
      "metadata": {
        "id": "wFELF7x-FsAp",
        "colab_type": "code",
        "colab": {
          "base_uri": "https://localhost:8080/",
          "height": 397
        },
        "outputId": "e63b9447-8e8d-4c3c-b79b-e1d9a8fae4a1"
      },
      "source": [
        "!wget https://www.dropbox.com/sh/i69phswf2fcxbn7/AAD6v2NXhAgeAfp6bW7UU-sEa?dl=0"
      ],
      "execution_count": 8,
      "outputs": [
        {
          "output_type": "stream",
          "text": [
            "--2019-08-25 11:51:51--  https://www.dropbox.com/sh/i69phswf2fcxbn7/AAD6v2NXhAgeAfp6bW7UU-sEa?dl=0\n",
            "Resolving www.dropbox.com (www.dropbox.com)... 162.125.82.1, 2620:100:6032:1::a27d:5201\n",
            "Connecting to www.dropbox.com (www.dropbox.com)|162.125.82.1|:443... connected.\n",
            "HTTP request sent, awaiting response... 301 Moved Permanently\n",
            "Location: /sh/raw/i69phswf2fcxbn7/AAD6v2NXhAgeAfp6bW7UU-sEa [following]\n",
            "--2019-08-25 11:51:51--  https://www.dropbox.com/sh/raw/i69phswf2fcxbn7/AAD6v2NXhAgeAfp6bW7UU-sEa\n",
            "Reusing existing connection to www.dropbox.com:443.\n",
            "HTTP request sent, awaiting response... 302 Found\n",
            "Location: https://uca2247aab1f8b486ea3a27ca2c5.dl.dropboxusercontent.com/zip_by_token_key?key=AnS81GgvMP9vekd_FJgABXWmP1nzbvsBe5nEdY-AxjqhluSVHOdMsLlh_lX_QCQWGz7IFyWd_DQxka2sWzu3grNY-OKkYg6w3HTVWMTMcms-6maC28LKtTultzDPFNfBM58Bo6j4OT1YN51wg2xg0xo8K1xN1tKACJTo3AbtjGaWribadmJyehYlsxirwLCkudni1bmXcCTwyo_XX9gDL8tk [following]\n",
            "--2019-08-25 11:51:52--  https://uca2247aab1f8b486ea3a27ca2c5.dl.dropboxusercontent.com/zip_by_token_key?key=AnS81GgvMP9vekd_FJgABXWmP1nzbvsBe5nEdY-AxjqhluSVHOdMsLlh_lX_QCQWGz7IFyWd_DQxka2sWzu3grNY-OKkYg6w3HTVWMTMcms-6maC28LKtTultzDPFNfBM58Bo6j4OT1YN51wg2xg0xo8K1xN1tKACJTo3AbtjGaWribadmJyehYlsxirwLCkudni1bmXcCTwyo_XX9gDL8tk\n",
            "Resolving uca2247aab1f8b486ea3a27ca2c5.dl.dropboxusercontent.com (uca2247aab1f8b486ea3a27ca2c5.dl.dropboxusercontent.com)... 162.125.82.6, 2620:100:6032:6::a27d:5206\n",
            "Connecting to uca2247aab1f8b486ea3a27ca2c5.dl.dropboxusercontent.com (uca2247aab1f8b486ea3a27ca2c5.dl.dropboxusercontent.com)|162.125.82.6|:443... connected.\n",
            "HTTP request sent, awaiting response... 200 OK\n",
            "Length: unspecified [application/zip]\n",
            "Saving to: ‘AAD6v2NXhAgeAfp6bW7UU-sEa?dl=0’\n",
            "\n",
            "AAD6v2NXhAgeAfp6bW7     [             <=>    ] 101.01M  2.52MB/s    in 52s     \n",
            "\n",
            "2019-08-25 11:52:46 (1.93 MB/s) - ‘AAD6v2NXhAgeAfp6bW7UU-sEa?dl=0’ saved [105916024]\n",
            "\n"
          ],
          "name": "stdout"
        }
      ]
    },
    {
      "cell_type": "code",
      "metadata": {
        "id": "_J56msZ8GQMk",
        "colab_type": "code",
        "colab": {
          "base_uri": "https://localhost:8080/",
          "height": 35
        },
        "outputId": "7348c069-58ca-45d4-8ca8-92612b5c3d43"
      },
      "source": [
        "!ls"
      ],
      "execution_count": 9,
      "outputs": [
        {
          "output_type": "stream",
          "text": [
            "'AAD6v2NXhAgeAfp6bW7UU-sEa?dl=0'   sample_data\n"
          ],
          "name": "stdout"
        }
      ]
    },
    {
      "cell_type": "code",
      "metadata": {
        "id": "8gyWDyFSH8JW",
        "colab_type": "code",
        "colab": {}
      },
      "source": [
        "!mv AAD6v2NXhAgeAfp6bW7UU-sEa?dl=0 PoKedata.zip"
      ],
      "execution_count": 0,
      "outputs": []
    },
    {
      "cell_type": "code",
      "metadata": {
        "id": "73SKBehMIF89",
        "colab_type": "code",
        "colab": {
          "base_uri": "https://localhost:8080/",
          "height": 1000
        },
        "outputId": "b22d71f7-3a91-4316-8e61-c0ae573cdb95"
      },
      "source": [
        "!unzip PoKedata.zip"
      ],
      "execution_count": 11,
      "outputs": [
        {
          "output_type": "stream",
          "text": [
            "Archive:  PoKedata.zip\n",
            "warning:  stripped absolute path spec from /\n",
            "mapname:  conversion of  failed\n",
            "   creating: Test/\n",
            "   creating: Train/\n",
            "   creating: Test/Pikachu/\n",
            "   creating: Train/Pikachu/\n",
            "   creating: Test/Balbasaur/\n",
            "   creating: Train/Balbasaur/\n",
            "   creating: Test/Charmender/\n",
            "   creating: Train/Charmender/\n",
            " extracting: Train/Pikachu/391.jpg   \n",
            " extracting: Test/Pikachu/2030.jpg   \n",
            " extracting: Test/Pikachu/2022.jpg   \n",
            " extracting: Train/Pikachu/319.jpg   \n",
            " extracting: Train/Pikachu/377.jpg   \n",
            " extracting: Train/Pikachu/337.jpg   \n",
            " extracting: Train/Pikachu/386.jpg   \n",
            " extracting: Train/Pikachu/373.jpg   \n",
            " extracting: Train/Pikachu/353.jpg   \n",
            " extracting: Train/Pikachu/357.jpg   \n",
            " extracting: Test/Pikachu/2016.jpg   \n",
            " extracting: Train/Pikachu/358.jpg   \n",
            " extracting: Train/Pikachu/304.jpg   \n",
            " extracting: Train/Pikachu/359.jpg   \n",
            " extracting: Train/Pikachu/363.jpg   \n",
            " extracting: Train/Pikachu/362.jpg   \n",
            " extracting: Train/Pikachu/385.jpg   \n",
            " extracting: Train/Pikachu/352.jpg   \n",
            " extracting: Train/Pikachu/321.jpg   \n",
            " extracting: Test/Pikachu/2003.jpg   \n",
            " extracting: Train/Pikachu/325.jpg   \n",
            " extracting: Train/Pikachu/368.jpg   \n",
            " extracting: Test/Pikachu/2013.jpg   \n",
            " extracting: Train/Pikachu/328.jpg   \n",
            " extracting: Train/Pikachu/313.jpg   \n",
            " extracting: Train/Pikachu/309.jpg   \n",
            " extracting: Train/Pikachu/354.jpg   \n",
            " extracting: Train/Pikachu/370.jpg   \n",
            " extracting: Train/Pikachu/343.jpg   \n",
            " extracting: Train/Pikachu/314.jpg   \n",
            " extracting: Train/Pikachu/315.jpg   \n",
            " extracting: Train/Pikachu/367.jpg   \n",
            " extracting: Train/Pikachu/376.jpg   \n",
            " extracting: Train/Pikachu/303.jpg   \n",
            " extracting: Train/Pikachu/320.jpg   \n",
            " extracting: Train/Pikachu/329.jpg   \n",
            " extracting: Train/Pikachu/356.jpg   \n",
            " extracting: Train/Pikachu/349.jpg   \n",
            " extracting: Train/Pikachu/390.jpg   \n",
            " extracting: Test/Pikachu/2009.jpg   \n",
            " extracting: Test/Pikachu/2017.jpg   \n",
            " extracting: Train/Pikachu/318.jpg   \n",
            " extracting: Test/Pikachu/2001.jpg   \n",
            " extracting: Train/Pikachu/366.jpg   \n",
            " extracting: Train/Pikachu/384.jpg   \n",
            " extracting: Train/Pikachu/300.jpg   \n",
            " extracting: Train/Pikachu/383.jpg   \n",
            " extracting: Train/Pikachu/312.jpg   \n",
            " extracting: Test/Pikachu/2012.jpg   \n",
            " extracting: Train/Pikachu/396.jpg   \n",
            " extracting: Train/Pikachu/299.jpg   \n",
            " extracting: Train/Pikachu/326.jpg   \n",
            " extracting: Test/Pikachu/2004.jpg   \n",
            " extracting: Test/Pikachu/2036.jpg   \n",
            " extracting: Test/Pikachu/2002.jpg   \n",
            " extracting: Test/Pikachu/2032.jpg   \n",
            " extracting: Train/Pikachu/348.jpg   \n",
            " extracting: Test/Pikachu/2031.jpg   \n",
            " extracting: Train/Pikachu/297.jpg   \n",
            " extracting: Train/Pikachu/371.jpg   \n",
            " extracting: Test/Pikachu/2008.jpg   \n",
            " extracting: Train/Pikachu/347.jpg   \n",
            " extracting: Train/Pikachu/351.jpg   \n",
            " extracting: Train/Pikachu/323.jpg   \n",
            " extracting: Test/Pikachu/2027.jpg   \n",
            " extracting: Train/Pikachu/346.jpg   \n",
            " extracting: Test/Pikachu/2037.jpg   \n",
            " extracting: Test/Pikachu/2000.jpg   \n",
            " extracting: Train/Pikachu/375.jpg   \n",
            " extracting: Train/Pikachu/311.jpg   \n",
            " extracting: Train/Pikachu/393.jpg   \n",
            " extracting: Test/Pikachu/2026.jpg   \n",
            " extracting: Train/Pikachu/389.jpg   \n",
            " extracting: Train/Pikachu/301.jpg   \n",
            " extracting: Train/Pikachu/388.jpg   \n",
            " extracting: Train/Pikachu/350.jpg   \n",
            " extracting: Test/Pikachu/2020.jpg   \n",
            " extracting: Train/Pikachu/382.jpg   \n",
            " extracting: Train/Pikachu/339.jpg   \n",
            " extracting: Train/Pikachu/327.jpg   \n",
            " extracting: Test/Pikachu/2014.jpg   \n",
            " extracting: Train/Pikachu/365.jpg   \n",
            " extracting: Test/Pikachu/2038.jpg   \n",
            " extracting: Train/Pikachu/322.jpg   \n",
            " extracting: Train/Pikachu/345.jpg   \n",
            " extracting: Train/Pikachu/344.jpg   \n",
            " extracting: Test/Pikachu/2035.jpg   \n",
            " extracting: Train/Pikachu/374.jpg   \n",
            " extracting: Train/Pikachu/395.jpg   \n",
            " extracting: Train/Pikachu/296.jpg   \n",
            " extracting: Test/Pikachu/2029.jpg   \n",
            " extracting: Test/Pikachu/2007.jpg   \n",
            " extracting: Train/Pikachu/392.jpg   \n",
            " extracting: Train/Pikachu/306.jpg   \n",
            " extracting: Train/Pikachu/302.jpg   \n",
            " extracting: Train/Pikachu/381.jpg   \n",
            " extracting: Train/Pikachu/338.jpg   \n",
            " extracting: Test/Pikachu/2021.jpg   \n",
            " extracting: Test/Pikachu/2034.jpg   \n",
            " extracting: Train/Pikachu/341.jpg   \n",
            " extracting: Train/Pikachu/298.jpg   \n",
            " extracting: Train/Pikachu/317.jpg   \n",
            " extracting: Train/Pikachu/379.jpg   \n",
            " extracting: Train/Pikachu/364.jpg   \n",
            " extracting: Train/Pikachu/387.jpg   \n",
            " extracting: Test/Pikachu/2005.jpg   \n",
            " extracting: Test/Pikachu/2006.jpg   \n",
            " extracting: Train/Pikachu/330.jpg   \n",
            " extracting: Test/Pikachu/2011.jpg   \n",
            " extracting: Train/Pikachu/316.jpg   \n",
            " extracting: Test/Pikachu/2015.jpg   \n",
            " extracting: Test/Pikachu/2018.jpg   \n",
            " extracting: Test/Pikachu/2023.jpg   \n",
            " extracting: Test/Pikachu/2039.jpg   \n",
            " extracting: Train/Pikachu/372.jpg   \n",
            " extracting: Train/Pikachu/340.jpg   \n",
            " extracting: Test/Pikachu/2040.jpg   \n",
            " extracting: Train/Pikachu/369.jpg   \n",
            " extracting: Test/Pikachu/2024.jpg   \n",
            " extracting: Train/Pikachu/355.jpg   \n",
            " extracting: Train/Pikachu/361.jpg   \n",
            " extracting: Test/Pikachu/2025.jpg   \n",
            " extracting: Train/Pikachu/378.jpg   \n",
            " extracting: Train/Pikachu/310.jpg   \n",
            " extracting: Train/Pikachu/394.jpg   \n",
            " extracting: Test/Pikachu/2033.jpg   \n",
            " extracting: Train/Pikachu/380.jpg   \n",
            " extracting: Train/Pikachu/307.jpg   \n",
            " extracting: Test/Pikachu/2010.jpg   \n",
            " extracting: Train/Pikachu/324.jpg   \n",
            " extracting: Train/Pikachu/360.jpg   \n",
            " extracting: Test/Pikachu/2019.jpg   \n",
            " extracting: Train/Pikachu/308.jpg   \n",
            " extracting: Test/Pikachu/2028.jpg   \n",
            " extracting: Train/Pikachu/305.jpg   \n",
            " extracting: Test/Balbasaur/1110.jpg  \n",
            " extracting: Train/Balbasaur/398.jpg  \n",
            " extracting: Train/Balbasaur/485.jpg  \n",
            " extracting: Train/Balbasaur/464.jpg  \n",
            " extracting: Train/Balbasaur/483.jpg  \n",
            " extracting: Train/Balbasaur/441.jpg  \n",
            " extracting: Test/Balbasaur/1125.jpg  \n",
            " extracting: Train/Balbasaur/438.jpg  \n",
            " extracting: Train/Balbasaur/404.jpg  \n",
            " extracting: Train/Balbasaur/452.jpg  \n",
            " extracting: Train/Balbasaur/413.jpg  \n",
            " extracting: Train/Balbasaur/476.jpg  \n",
            " extracting: Test/Balbasaur/1117.jpg  \n",
            " extracting: Test/Balbasaur/1115.jpg  \n",
            " extracting: Train/Balbasaur/490.jpg  \n",
            " extracting: Train/Balbasaur/478.jpg  \n",
            " extracting: Train/Balbasaur/455.jpg  \n",
            " extracting: Train/Balbasaur/439.jpg  \n",
            " extracting: Test/Balbasaur/1108.jpg  \n",
            " extracting: Train/Balbasaur/471.jpg  \n",
            " extracting: Test/Balbasaur/1113.jpg  \n",
            " extracting: Test/Balbasaur/1101.jpg  \n",
            " extracting: Train/Balbasaur/440.jpg  \n",
            " extracting: Test/Balbasaur/1102.jpg  \n",
            " extracting: Test/Balbasaur/1124.jpg  \n",
            " extracting: Test/Balbasaur/1129.jpg  \n",
            " extracting: Test/Balbasaur/1119.jpg  \n",
            " extracting: Train/Balbasaur/400.jpg  \n",
            " extracting: Train/Balbasaur/453.jpg  \n",
            " extracting: Train/Balbasaur/489.jpg  \n",
            " extracting: Train/Balbasaur/431.jpg  \n",
            " extracting: Test/Balbasaur/1104.jpg  \n",
            " extracting: Train/Balbasaur/446.jpg  \n",
            " extracting: Train/Balbasaur/465.jpg  \n",
            " extracting: Test/Balbasaur/1111.jpg  \n",
            " extracting: Train/Balbasaur/419.jpg  \n",
            " extracting: Train/Balbasaur/494.jpg  \n",
            " extracting: Train/Balbasaur/425.jpg  \n",
            " extracting: Train/Balbasaur/415.jpg  \n",
            " extracting: Train/Balbasaur/401.jpg  \n",
            " extracting: Train/Balbasaur/434.jpg  \n",
            " extracting: Train/Balbasaur/492.jpg  \n",
            " extracting: Train/Balbasaur/424.jpg  \n",
            " extracting: Test/Balbasaur/1109.jpg  \n",
            " extracting: Test/Balbasaur/1134.jpg  \n",
            " extracting: Train/Balbasaur/458.jpg  \n",
            " extracting: Train/Balbasaur/426.jpg  \n",
            " extracting: Train/Balbasaur/477.jpg  \n",
            " extracting: Train/Balbasaur/405.jpg  \n",
            " extracting: Train/Balbasaur/495.jpg  \n",
            " extracting: Train/Balbasaur/456.jpg  \n",
            " extracting: Train/Balbasaur/437.jpg  \n",
            " extracting: Train/Balbasaur/422.jpg  \n",
            " extracting: Test/Balbasaur/1106.jpg  \n",
            " extracting: Train/Balbasaur/429.jpg  \n",
            " extracting: Train/Balbasaur/472.jpg  \n",
            " extracting: Test/Balbasaur/1116.jpg  \n",
            " extracting: Train/Balbasaur/410.jpg  \n",
            " extracting: Train/Balbasaur/414.jpg  \n",
            " extracting: Train/Balbasaur/447.jpg  \n",
            " extracting: Test/Balbasaur/1132.jpg  \n",
            " extracting: Train/Balbasaur/466.jpg  \n",
            " extracting: Train/Balbasaur/451.jpg  \n",
            " extracting: Test/Balbasaur/1107.jpg  \n",
            " extracting: Test/Balbasaur/1138.jpg  \n",
            " extracting: Train/Balbasaur/493.jpg  \n",
            " extracting: Train/Balbasaur/481.jpg  \n",
            " extracting: Train/Balbasaur/463.jpg  \n",
            " extracting: Train/Balbasaur/479.jpg  \n",
            " extracting: Train/Balbasaur/397.jpg  \n",
            " extracting: Train/Balbasaur/450.jpg  \n",
            " extracting: Train/Balbasaur/444.jpg  \n",
            " extracting: Test/Balbasaur/1126.jpg  \n",
            " extracting: Test/Balbasaur/1133.jpg  \n",
            " extracting: Train/Balbasaur/469.jpg  \n",
            " extracting: Test/Balbasaur/1122.jpg  \n",
            " extracting: Train/Balbasaur/457.jpg  \n",
            " extracting: Train/Balbasaur/430.jpg  \n",
            " extracting: Test/Balbasaur/1135.jpg  \n",
            " extracting: Train/Balbasaur/482.jpg  \n",
            " extracting: Test/Balbasaur/1123.jpg  \n",
            " extracting: Test/Balbasaur/1128.jpg  \n",
            " extracting: Test/Balbasaur/1136.jpg  \n",
            " extracting: Train/Balbasaur/402.jpg  \n",
            " extracting: Train/Balbasaur/417.jpg  \n",
            " extracting: Train/Balbasaur/432.jpg  \n",
            " extracting: Train/Balbasaur/487.jpg  \n",
            " extracting: Train/Balbasaur/411.jpg  \n",
            " extracting: Train/Balbasaur/427.jpg  \n",
            " extracting: Test/Balbasaur/1100.jpg  \n",
            " extracting: Train/Balbasaur/474.jpg  \n",
            " extracting: Test/Balbasaur/1127.jpg  \n",
            " extracting: Train/Balbasaur/428.jpg  \n",
            " extracting: Test/Balbasaur/1137.jpg  \n",
            " extracting: Train/Balbasaur/468.jpg  \n",
            " extracting: Train/Balbasaur/408.jpg  \n",
            " extracting: Train/Balbasaur/480.jpg  \n",
            " extracting: Train/Balbasaur/473.jpg  \n",
            " extracting: Train/Balbasaur/420.jpg  \n",
            " extracting: Train/Balbasaur/496.jpg  \n",
            " extracting: Train/Balbasaur/423.jpg  \n",
            " extracting: Train/Balbasaur/467.jpg  \n",
            " extracting: Train/Balbasaur/486.jpg  \n",
            " extracting: Train/Balbasaur/445.jpg  \n",
            " extracting: Test/Balbasaur/1103.jpg  \n",
            " extracting: Train/Balbasaur/436.jpg  \n",
            " extracting: Train/Balbasaur/460.jpg  \n",
            " extracting: Train/Balbasaur/442.jpg  \n",
            " extracting: Train/Balbasaur/433.jpg  \n",
            " extracting: Train/Balbasaur/475.jpg  \n",
            " extracting: Test/Balbasaur/1105.jpg  \n",
            " extracting: Train/Balbasaur/403.jpg  \n",
            " extracting: Train/Balbasaur/421.jpg  \n",
            " extracting: Test/Balbasaur/1121.jpg  \n",
            " extracting: Train/Balbasaur/459.jpg  \n",
            " extracting: Train/Balbasaur/497.jpg  \n",
            " extracting: Test/Balbasaur/1139.jpg  \n",
            " extracting: Train/Balbasaur/409.jpg  \n",
            " extracting: Train/Balbasaur/435.jpg  \n",
            " extracting: Train/Balbasaur/491.jpg  \n",
            " extracting: Train/Balbasaur/416.jpg  \n",
            " extracting: Test/Balbasaur/1112.jpg  \n",
            " extracting: Train/Balbasaur/406.jpg  \n",
            " extracting: Test/Balbasaur/1130.jpg  \n",
            " extracting: Train/Balbasaur/484.jpg  \n",
            " extracting: Train/Balbasaur/407.jpg  \n",
            " extracting: Train/Balbasaur/443.jpg  \n",
            " extracting: Train/Balbasaur/399.jpg  \n",
            " extracting: Train/Balbasaur/412.jpg  \n",
            " extracting: Train/Balbasaur/470.jpg  \n",
            " extracting: Train/Balbasaur/462.jpg  \n",
            " extracting: Train/Balbasaur/448.jpg  \n",
            " extracting: Test/Balbasaur/1140.jpg  \n",
            " extracting: Train/Balbasaur/461.jpg  \n",
            " extracting: Train/Balbasaur/449.jpg  \n",
            " extracting: Train/Balbasaur/454.jpg  \n",
            " extracting: Train/Balbasaur/418.jpg  \n",
            " extracting: Test/Balbasaur/1131.jpg  \n",
            " extracting: Train/Balbasaur/488.jpg  \n",
            " extracting: Test/Balbasaur/1114.jpg  \n",
            " extracting: Test/Balbasaur/1118.jpg  \n",
            " extracting: Test/Balbasaur/1120.jpg  \n",
            " extracting: Train/Charmender/559.jpg  \n",
            " extracting: Test/Charmender/2236.jpg  \n",
            " extracting: Train/Charmender/590.jpg  \n",
            " extracting: Train/Charmender/530.jpg  \n",
            " extracting: Train/Charmender/583.jpg  \n",
            " extracting: Train/Charmender/561.jpg  \n",
            " extracting: Test/Charmender/2227.jpg  \n",
            " extracting: Train/Charmender/613.jpg  \n",
            " extracting: Train/Charmender/620.jpg  \n",
            " extracting: Train/Charmender/538.jpg  \n",
            " extracting: Test/Charmender/2201.jpg  \n",
            " extracting: Train/Charmender/617.jpg  \n",
            " extracting: Train/Charmender/544.jpg  \n",
            " extracting: Test/Charmender/2207.jpg  \n",
            " extracting: Train/Charmender/570.jpg  \n",
            " extracting: Train/Charmender/548.jpg  \n",
            " extracting: Train/Charmender/597.jpg  \n",
            " extracting: Train/Charmender/540.jpg  \n",
            " extracting: Test/Charmender/2237.jpg  \n",
            " extracting: Train/Charmender/589.jpg  \n",
            " extracting: Train/Charmender/531.jpg  \n",
            " extracting: Train/Charmender/575.jpg  \n",
            " extracting: Train/Charmender/603.jpg  \n",
            " extracting: Test/Charmender/2230.jpg  \n",
            " extracting: Train/Charmender/612.jpg  \n",
            " extracting: Train/Charmender/601.jpg  \n",
            " extracting: Test/Charmender/2209.jpg  \n",
            " extracting: Train/Charmender/593.jpg  \n",
            " extracting: Train/Charmender/582.jpg  \n",
            " extracting: Test/Charmender/2225.jpg  \n",
            " extracting: Test/Charmender/2200.jpg  \n",
            " extracting: Train/Charmender/545.jpg  \n",
            " extracting: Train/Charmender/602.jpg  \n",
            " extracting: Train/Charmender/558.jpg  \n",
            " extracting: Train/Charmender/543.jpg  \n",
            " extracting: Test/Charmender/2229.jpg  \n",
            " extracting: Train/Charmender/555.jpg  \n",
            " extracting: Train/Charmender/498.jpg  \n",
            " extracting: Train/Charmender/552.jpg  \n",
            " extracting: Train/Charmender/598.jpg  \n",
            " extracting: Train/Charmender/579.jpg  \n",
            " extracting: Test/Charmender/2206.jpg  \n",
            " extracting: Train/Charmender/549.jpg  \n",
            " extracting: Train/Charmender/539.jpg  \n",
            " extracting: Train/Charmender/604.jpg  \n",
            " extracting: Train/Charmender/595.jpg  \n",
            " extracting: Train/Charmender/526.jpg  \n",
            " extracting: Test/Charmender/2220.jpg  \n",
            " extracting: Train/Charmender/585.jpg  \n",
            " extracting: Test/Charmender/2235.jpg  \n",
            " extracting: Train/Charmender/536.jpg  \n",
            " extracting: Train/Charmender/554.jpg  \n",
            " extracting: Train/Charmender/541.jpg  \n",
            " extracting: Train/Charmender/614.jpg  \n",
            " extracting: Test/Charmender/2221.jpg  \n",
            " extracting: Test/Charmender/2228.jpg  \n",
            " extracting: Train/Charmender/527.jpg  \n",
            " extracting: Test/Charmender/2233.jpg  \n",
            " extracting: Train/Charmender/619.jpg  \n",
            " extracting: Test/Charmender/2222.jpg  \n",
            " extracting: Test/Charmender/2239.jpg  \n",
            " extracting: Train/Charmender/535.jpg  \n",
            " extracting: Test/Charmender/2224.jpg  \n",
            " extracting: Train/Charmender/564.jpg  \n",
            " extracting: Train/Charmender/588.jpg  \n",
            " extracting: Train/Charmender/521.jpg  \n",
            " extracting: Train/Charmender/611.jpg  \n",
            " extracting: Train/Charmender/573.jpg  \n",
            " extracting: Test/Charmender/2234.jpg  \n",
            " extracting: Train/Charmender/608.jpg  \n",
            " extracting: Train/Charmender/587.jpg  \n",
            " extracting: Test/Charmender/2232.jpg  \n",
            " extracting: Test/Charmender/2210.jpg  \n",
            " extracting: Train/Charmender/605.jpg  \n",
            " extracting: Train/Charmender/618.jpg  \n",
            " extracting: Train/Charmender/592.jpg  \n",
            " extracting: Train/Charmender/599.jpg  \n",
            " extracting: Train/Charmender/556.jpg  \n",
            " extracting: Train/Charmender/551.jpg  \n",
            " extracting: Test/Charmender/2219.jpg  \n",
            " extracting: Train/Charmender/581.jpg  \n",
            " extracting: Train/Charmender/569.jpg  \n",
            " extracting: Train/Charmender/528.jpg  \n",
            " extracting: Train/Charmender/546.jpg  \n",
            " extracting: Test/Charmender/2240.jpg  \n",
            " extracting: Train/Charmender/562.jpg  \n",
            " extracting: Train/Charmender/615.jpg  \n",
            " extracting: Train/Charmender/607.jpg  \n",
            " extracting: Train/Charmender/566.jpg  \n",
            " extracting: Test/Charmender/2211.jpg  \n",
            " extracting: Train/Charmender/600.jpg  \n",
            " extracting: Train/Charmender/520.jpg  \n",
            " extracting: Train/Charmender/557.jpg  \n",
            " extracting: Train/Charmender/568.jpg  \n",
            " extracting: Train/Charmender/610.jpg  \n",
            " extracting: Test/Charmender/2238.jpg  \n",
            " extracting: Train/Charmender/547.jpg  \n",
            " extracting: Train/Charmender/586.jpg  \n",
            " extracting: Train/Charmender/576.jpg  \n",
            " extracting: Train/Charmender/584.jpg  \n",
            " extracting: Train/Charmender/563.jpg  \n",
            " extracting: Train/Charmender/580.jpg  \n",
            " extracting: Train/Charmender/594.jpg  \n",
            " extracting: Train/Charmender/572.jpg  \n",
            " extracting: Test/Charmender/2218.jpg  \n",
            " extracting: Train/Charmender/565.jpg  \n",
            " extracting: Test/Charmender/2203.jpg  \n",
            " extracting: Train/Charmender/522.jpg  \n",
            " extracting: Train/Charmender/578.jpg  \n",
            " extracting: Train/Charmender/606.jpg  \n",
            " extracting: Train/Charmender/525.jpg  \n",
            " extracting: Test/Charmender/2205.jpg  \n",
            " extracting: Train/Charmender/524.jpg  \n",
            " extracting: Test/Charmender/2216.jpg  \n",
            " extracting: Test/Charmender/2213.jpg  \n",
            " extracting: Train/Charmender/550.jpg  \n",
            " extracting: Train/Charmender/577.jpg  \n",
            " extracting: Test/Charmender/2223.jpg  \n",
            " extracting: Train/Charmender/567.jpg  \n",
            " extracting: Test/Charmender/2202.jpg  \n",
            " extracting: Test/Charmender/2215.jpg  \n",
            " extracting: Test/Charmender/2231.jpg  \n",
            " extracting: Train/Charmender/529.jpg  \n",
            " extracting: Train/Charmender/533.jpg  \n",
            " extracting: Train/Charmender/537.jpg  \n",
            " extracting: Test/Charmender/2208.jpg  \n",
            " extracting: Train/Charmender/534.jpg  \n",
            " extracting: Train/Charmender/553.jpg  \n",
            " extracting: Train/Charmender/523.jpg  \n",
            " extracting: Train/Charmender/560.jpg  \n",
            " extracting: Train/Charmender/591.jpg  \n",
            " extracting: Train/Charmender/616.jpg  \n",
            " extracting: Train/Charmender/532.jpg  \n",
            " extracting: Test/Charmender/2212.jpg  \n",
            " extracting: Train/Charmender/571.jpg  \n",
            " extracting: Test/Charmender/2214.jpg  \n",
            " extracting: Test/Charmender/2217.jpg  \n",
            " extracting: Test/Charmender/2204.jpg  \n",
            " extracting: Train/Charmender/542.jpg  \n",
            " extracting: Train/Charmender/609.jpg  \n",
            " extracting: Train/Charmender/574.jpg  \n",
            " extracting: Test/Charmender/2226.jpg  \n",
            " extracting: Train/Charmender/596.jpg  \n"
          ],
          "name": "stdout"
        }
      ]
    },
    {
      "cell_type": "code",
      "metadata": {
        "id": "Jn7jCKn0IXdc",
        "colab_type": "code",
        "colab": {}
      },
      "source": [
        "import os\n",
        "\n",
        "#os.listdir(\"Train/Balbasaur\")"
      ],
      "execution_count": 0,
      "outputs": []
    },
    {
      "cell_type": "code",
      "metadata": {
        "id": "NaWbafdmKj50",
        "colab_type": "code",
        "colab": {}
      },
      "source": [
        "from keras.preprocessing import image\n",
        "import matplotlib.pyplot as plt\n"
      ],
      "execution_count": 0,
      "outputs": []
    },
    {
      "cell_type": "code",
      "metadata": {
        "id": "AJOR46VMLD1N",
        "colab_type": "code",
        "colab": {
          "base_uri": "https://localhost:8080/",
          "height": 269
        },
        "outputId": "d535f439-d1cf-4226-cd4d-3aec7c15e7f3"
      },
      "source": [
        "img = image.load_img(\"Train/Balbasaur/425.jpg\",target_size=(100,100))\n",
        "img = image.img_to_array(img)/255.0\n",
        "#img[:,:,1:] = 0\n",
        "plt.imshow(img)\n",
        "plt.show()"
      ],
      "execution_count": 20,
      "outputs": [
        {
          "output_type": "display_data",
          "data": {
            "image/png": "[encoded data removed]",
            "text/plain": [
              "<Figure size 432x288 with 1 Axes>"
            ]
          },
          "metadata": {
            "tags": []
          }
        }
      ]
    },
    {
      "cell_type": "code",
      "metadata": {
        "id": "Ht77wbFOLcEU",
        "colab_type": "code",
        "colab": {}
      },
      "source": [
        ""
      ],
      "execution_count": 0,
      "outputs": []
    },
    {
      "cell_type": "code",
      "metadata": {
        "id": "t788dmBOMOUY",
        "colab_type": "code",
        "colab": {
          "base_uri": "https://localhost:8080/",
          "height": 467
        },
        "outputId": "77984800-5265-49ed-8a2e-f3296a0c5bed"
      },
      "source": [
        "# CNN Model\n",
        "from keras.models import Sequential\n",
        "from keras.layers import *\n",
        "\n",
        "model = Sequential()\n",
        "model.add(Conv2D(32,(3,3),activation='relu',input_shape=(100,100,3)))\n",
        "model.add(MaxPooling2D((2,2)))\n",
        "\n",
        "model.add(Conv2D(64,(3,3),activation='relu'))\n",
        "model.add(MaxPooling2D((2,2)))\n",
        "\n",
        "model.add(Conv2D(128,(3,3),activation='relu'))\n",
        "model.add(MaxPooling2D((2,2)))\n",
        "model.add(GlobalAveragePooling2D())\n",
        "\n",
        "# Classifier\n",
        "model.add(Dense(64,activation='relu'))\n",
        "model.add(Dense(3,activation='softmax'))\n",
        "model.summary()\n",
        "\n",
        "model.compile(loss='categorical_crossentropy',metrics=['accuracy'],optimizer='adam')\n"
      ],
      "execution_count": 14,
      "outputs": [
        {
          "output_type": "stream",
          "text": [
            "_________________________________________________________________\n",
            "Layer (type)                 Output Shape              Param #   \n",
            "=================================================================\n",
            "conv2d_4 (Conv2D)            (None, 98, 98, 32)        896       \n",
            "_________________________________________________________________\n",
            "max_pooling2d_4 (MaxPooling2 (None, 49, 49, 32)        0         \n",
            "_________________________________________________________________\n",
            "conv2d_5 (Conv2D)            (None, 47, 47, 64)        18496     \n",
            "_________________________________________________________________\n",
            "max_pooling2d_5 (MaxPooling2 (None, 23, 23, 64)        0         \n",
            "_________________________________________________________________\n",
            "conv2d_6 (Conv2D)            (None, 21, 21, 128)       73856     \n",
            "_________________________________________________________________\n",
            "max_pooling2d_6 (MaxPooling2 (None, 10, 10, 128)       0         \n",
            "_________________________________________________________________\n",
            "global_average_pooling2d_2 ( (None, 128)               0         \n",
            "_________________________________________________________________\n",
            "dense_3 (Dense)              (None, 64)                8256      \n",
            "_________________________________________________________________\n",
            "dense_4 (Dense)              (None, 3)                 195       \n",
            "=================================================================\n",
            "Total params: 101,699\n",
            "Trainable params: 101,699\n",
            "Non-trainable params: 0\n",
            "_________________________________________________________________\n"
          ],
          "name": "stdout"
        }
      ]
    },
    {
      "cell_type": "code",
      "metadata": {
        "id": "-LxlLqSfa9uo",
        "colab_type": "code",
        "colab": {}
      },
      "source": [
        "# Data Loader with Augmentation\n",
        "train_datagen = image.ImageDataGenerator(\n",
        "    rotation_range=20,\n",
        "    width_shift_range=0.2,\n",
        "    height_shift_range=0.2,\n",
        "    rescale = 1.0/255,\n",
        "    horizontal_flip=True)\n",
        "\n",
        "val_datagen = image.ImageDataGenerator(\n",
        "    rescale = 1.0/255,\n",
        ")"
      ],
      "execution_count": 0,
      "outputs": []
    },
    {
      "cell_type": "code",
      "metadata": {
        "id": "3dDVi1TVhN6w",
        "colab_type": "code",
        "colab": {
          "base_uri": "https://localhost:8080/",
          "height": 53
        },
        "outputId": "3b1a507f-a248-41bd-8b03-f218b11d599a"
      },
      "source": [
        "train_loader = train_datagen.flow_from_directory('Train',\n",
        "                                               batch_size=32,\n",
        "                                               class_mode='categorical',\n",
        "                                               target_size = (100,100),\n",
        "                                               shuffle=True)\n",
        "\n",
        "val_loader = val_datagen.flow_from_directory('Test',\n",
        "                                               batch_size=32,\n",
        "                                               class_mode='categorical',\n",
        "                                               target_size = (100,100),\n",
        "                                               shuffle=True)"
      ],
      "execution_count": 16,
      "outputs": [
        {
          "output_type": "stream",
          "text": [
            "Found 297 images belonging to 3 classes.\n",
            "Found 123 images belonging to 3 classes.\n"
          ],
          "name": "stdout"
        }
      ]
    },
    {
      "cell_type": "code",
      "metadata": {
        "id": "k3Q_pYmph1Kk",
        "colab_type": "code",
        "colab": {
          "base_uri": "https://localhost:8080/",
          "height": 287
        },
        "outputId": "3c74ce37-91f2-4bfb-9111-00b4d5a62f5b"
      },
      "source": [
        "for x,y in val_loader:\n",
        "    print(x.shape,y.shape)\n",
        "    \n",
        "   \n",
        "    for i in range(25):\n",
        "        \n",
        "        plt.subplot(5,5,i+1)\n",
        "        plt.imshow(x[i])\n",
        "        plt.axis(\"off\")\n",
        "        \n",
        "    \n",
        "    plt.show()\n",
        "    break\n",
        "    "
      ],
      "execution_count": 17,
      "outputs": [
        {
          "output_type": "stream",
          "text": [
            "(32, 100, 100, 3) (32, 3)\n"
          ],
          "name": "stdout"
        },
        {
          "output_type": "display_data",
          "data": {
            "image/png": "[encoded data removed]",
            "text/plain": [
              "<Figure size 432x288 with 25 Axes>"
            ]
          },
          "metadata": {
            "tags": []
          }
        }
      ]
    },
    {
      "cell_type": "code",
      "metadata": {
        "id": "RsFm_bKBiL6U",
        "colab_type": "code",
        "colab": {
          "base_uri": "https://localhost:8080/",
          "height": 1000
        },
        "outputId": "c8cbabef-e4bf-4a01-944c-aaa68a8c16cf"
      },
      "source": [
        "hist = model.fit_generator(train_loader,\n",
        "                           epochs=50,\n",
        "                           steps_per_epoch=10,\n",
        "                           shuffle=True,\n",
        "                           validation_data=val_loader,\n",
        "                          validation_steps=2)"
      ],
      "execution_count": 19,
      "outputs": [
        {
          "output_type": "stream",
          "text": [
            "Epoch 1/50\n",
            " 6/10 [=================>............] - ETA: 7s - loss: 1.0656 - acc: 0.4948"
          ],
          "name": "stdout"
        },
        {
          "output_type": "stream",
          "text": [
            "/usr/local/lib/python3.6/dist-packages/PIL/Image.py:914: UserWarning: Palette images with Transparency   expressed in bytes should be converted to RGBA images\n",
            "  'to RGBA images')\n"
          ],
          "name": "stderr"
        },
        {
          "output_type": "stream",
          "text": [
            "10/10 [==============================] - 16s 2s/step - loss: 1.0222 - acc: 0.5461 - val_loss: 0.9672 - val_acc: 0.5000\n",
            "Epoch 2/50\n",
            "10/10 [==============================] - 10s 1s/step - loss: 0.7755 - acc: 0.6853 - val_loss: 0.6907 - val_acc: 0.5424\n",
            "Epoch 3/50\n",
            "10/10 [==============================] - 10s 975ms/step - loss: 0.6101 - acc: 0.7022 - val_loss: 0.7263 - val_acc: 0.7031\n",
            "Epoch 4/50\n",
            "10/10 [==============================] - 10s 1s/step - loss: 0.5843 - acc: 0.7003 - val_loss: 0.5701 - val_acc: 0.6610\n",
            "Epoch 5/50\n",
            "10/10 [==============================] - 10s 986ms/step - loss: 0.4767 - acc: 0.7715 - val_loss: 0.6505 - val_acc: 0.6250\n",
            "Epoch 6/50\n",
            "10/10 [==============================] - 10s 1s/step - loss: 0.4713 - acc: 0.7790 - val_loss: 0.6402 - val_acc: 0.7966\n",
            "Epoch 7/50\n",
            "10/10 [==============================] - 10s 1s/step - loss: 0.4352 - acc: 0.8197 - val_loss: 0.5448 - val_acc: 0.7969\n",
            "Epoch 8/50\n",
            "10/10 [==============================] - 10s 1s/step - loss: 0.4138 - acc: 0.8460 - val_loss: 0.5859 - val_acc: 0.8475\n",
            "Epoch 9/50\n",
            "10/10 [==============================] - 10s 996ms/step - loss: 0.3510 - acc: 0.8574 - val_loss: 0.3110 - val_acc: 0.8281\n",
            "Epoch 10/50\n",
            "10/10 [==============================] - 10s 1s/step - loss: 0.3242 - acc: 0.8867 - val_loss: 0.5247 - val_acc: 0.7458\n",
            "Epoch 11/50\n",
            "10/10 [==============================] - 10s 993ms/step - loss: 0.3652 - acc: 0.8417 - val_loss: 0.4143 - val_acc: 0.8594\n",
            "Epoch 12/50\n",
            "10/10 [==============================] - 10s 968ms/step - loss: 0.3204 - acc: 0.9005 - val_loss: 0.3119 - val_acc: 0.8644\n",
            "Epoch 13/50\n",
            "10/10 [==============================] - 10s 1s/step - loss: 0.3685 - acc: 0.8073 - val_loss: 0.3603 - val_acc: 0.9062\n",
            "Epoch 14/50\n",
            "10/10 [==============================] - 10s 1s/step - loss: 0.2676 - acc: 0.8993 - val_loss: 0.2710 - val_acc: 0.9492\n",
            "Epoch 15/50\n",
            "10/10 [==============================] - 10s 980ms/step - loss: 0.3163 - acc: 0.8794 - val_loss: 0.2336 - val_acc: 0.9219\n",
            "Epoch 16/50\n",
            "10/10 [==============================] - 10s 1s/step - loss: 0.2502 - acc: 0.9213 - val_loss: 0.2987 - val_acc: 0.8983\n",
            "Epoch 17/50\n",
            "10/10 [==============================] - 10s 978ms/step - loss: 0.2474 - acc: 0.8983 - val_loss: 0.4280 - val_acc: 0.8594\n",
            "Epoch 18/50\n",
            "10/10 [==============================] - 10s 1s/step - loss: 0.2408 - acc: 0.9339 - val_loss: 0.3309 - val_acc: 0.8814\n",
            "Epoch 19/50\n",
            "10/10 [==============================] - 10s 1s/step - loss: 0.2237 - acc: 0.9392 - val_loss: 0.2698 - val_acc: 0.9531\n",
            "Epoch 20/50\n",
            "10/10 [==============================] - 10s 1s/step - loss: 0.1976 - acc: 0.9518 - val_loss: 0.2909 - val_acc: 0.8814\n",
            "Epoch 21/50\n",
            "10/10 [==============================] - 10s 996ms/step - loss: 0.1903 - acc: 0.9528 - val_loss: 0.3128 - val_acc: 0.9062\n",
            "Epoch 22/50\n",
            "10/10 [==============================] - 10s 1s/step - loss: 0.1816 - acc: 0.9622 - val_loss: 0.1841 - val_acc: 0.9661\n",
            "Epoch 23/50\n",
            "10/10 [==============================] - 10s 996ms/step - loss: 0.1792 - acc: 0.9559 - val_loss: 0.1120 - val_acc: 0.9375\n",
            "Epoch 24/50\n",
            "10/10 [==============================] - 10s 1s/step - loss: 0.2130 - acc: 0.9141 - val_loss: 0.2737 - val_acc: 0.8814\n",
            "Epoch 25/50\n",
            " 5/10 [==============>...............] - ETA: 5s - loss: 0.2348 - acc: 0.9250"
          ],
          "name": "stdout"
        },
        {
          "output_type": "error",
          "ename": "KeyboardInterrupt",
          "evalue": "ignored",
          "traceback": [
            "\u001b[0;31m---------------------------------------------------------------------------\u001b[0m",
            "\u001b[0;31mKeyboardInterrupt\u001b[0m                         Traceback (most recent call last)",
            "\u001b[0;32m<ipython-input-19-3e90c0d36ca7>\u001b[0m in \u001b[0;36m<module>\u001b[0;34m()\u001b[0m\n\u001b[1;32m      4\u001b[0m                            \u001b[0mshuffle\u001b[0m\u001b[0;34m=\u001b[0m\u001b[0;32mTrue\u001b[0m\u001b[0;34m,\u001b[0m\u001b[0;34m\u001b[0m\u001b[0;34m\u001b[0m\u001b[0m\n\u001b[1;32m      5\u001b[0m                            \u001b[0mvalidation_data\u001b[0m\u001b[0;34m=\u001b[0m\u001b[0mval_loader\u001b[0m\u001b[0;34m,\u001b[0m\u001b[0;34m\u001b[0m\u001b[0;34m\u001b[0m\u001b[0m\n\u001b[0;32m----> 6\u001b[0;31m                           validation_steps=2)\n\u001b[0m",
            "\u001b[0;32m/usr/local/lib/python3.6/dist-packages/keras/legacy/interfaces.py\u001b[0m in \u001b[0;36mwrapper\u001b[0;34m(*args, **kwargs)\u001b[0m\n\u001b[1;32m     89\u001b[0m                 warnings.warn('Update your `' + object_name + '` call to the ' +\n\u001b[1;32m     90\u001b[0m                               'Keras 2 API: ' + signature, stacklevel=2)\n\u001b[0;32m---> 91\u001b[0;31m             \u001b[0;32mreturn\u001b[0m \u001b[0mfunc\u001b[0m\u001b[0;34m(\u001b[0m\u001b[0;34m*\u001b[0m\u001b[0margs\u001b[0m\u001b[0;34m,\u001b[0m \u001b[0;34m**\u001b[0m\u001b[0mkwargs\u001b[0m\u001b[0;34m)\u001b[0m\u001b[0;34m\u001b[0m\u001b[0;34m\u001b[0m\u001b[0m\n\u001b[0m\u001b[1;32m     92\u001b[0m         \u001b[0mwrapper\u001b[0m\u001b[0;34m.\u001b[0m\u001b[0m_original_function\u001b[0m \u001b[0;34m=\u001b[0m \u001b[0mfunc\u001b[0m\u001b[0;34m\u001b[0m\u001b[0;34m\u001b[0m\u001b[0m\n\u001b[1;32m     93\u001b[0m         \u001b[0;32mreturn\u001b[0m \u001b[0mwrapper\u001b[0m\u001b[0;34m\u001b[0m\u001b[0;34m\u001b[0m\u001b[0m\n",
            "\u001b[0;32m/usr/local/lib/python3.6/dist-packages/keras/engine/training.py\u001b[0m in \u001b[0;36mfit_generator\u001b[0;34m(self, generator, steps_per_epoch, epochs, verbose, callbacks, validation_data, validation_steps, class_weight, max_queue_size, workers, use_multiprocessing, shuffle, initial_epoch)\u001b[0m\n\u001b[1;32m   1416\u001b[0m             \u001b[0muse_multiprocessing\u001b[0m\u001b[0;34m=\u001b[0m\u001b[0muse_multiprocessing\u001b[0m\u001b[0;34m,\u001b[0m\u001b[0;34m\u001b[0m\u001b[0;34m\u001b[0m\u001b[0m\n\u001b[1;32m   1417\u001b[0m             \u001b[0mshuffle\u001b[0m\u001b[0;34m=\u001b[0m\u001b[0mshuffle\u001b[0m\u001b[0;34m,\u001b[0m\u001b[0;34m\u001b[0m\u001b[0;34m\u001b[0m\u001b[0m\n\u001b[0;32m-> 1418\u001b[0;31m             initial_epoch=initial_epoch)\n\u001b[0m\u001b[1;32m   1419\u001b[0m \u001b[0;34m\u001b[0m\u001b[0m\n\u001b[1;32m   1420\u001b[0m     \u001b[0;34m@\u001b[0m\u001b[0minterfaces\u001b[0m\u001b[0;34m.\u001b[0m\u001b[0mlegacy_generator_methods_support\u001b[0m\u001b[0;34m\u001b[0m\u001b[0;34m\u001b[0m\u001b[0m\n",
            "\u001b[0;32m/usr/local/lib/python3.6/dist-packages/keras/engine/training_generator.py\u001b[0m in \u001b[0;36mfit_generator\u001b[0;34m(model, generator, steps_per_epoch, epochs, verbose, callbacks, validation_data, validation_steps, class_weight, max_queue_size, workers, use_multiprocessing, shuffle, initial_epoch)\u001b[0m\n\u001b[1;32m    179\u001b[0m             \u001b[0mbatch_index\u001b[0m \u001b[0;34m=\u001b[0m \u001b[0;36m0\u001b[0m\u001b[0;34m\u001b[0m\u001b[0;34m\u001b[0m\u001b[0m\n\u001b[1;32m    180\u001b[0m             \u001b[0;32mwhile\u001b[0m \u001b[0msteps_done\u001b[0m \u001b[0;34m<\u001b[0m \u001b[0msteps_per_epoch\u001b[0m\u001b[0;34m:\u001b[0m\u001b[0;34m\u001b[0m\u001b[0;34m\u001b[0m\u001b[0m\n\u001b[0;32m--> 181\u001b[0;31m                 \u001b[0mgenerator_output\u001b[0m \u001b[0;34m=\u001b[0m \u001b[0mnext\u001b[0m\u001b[0;34m(\u001b[0m\u001b[0moutput_generator\u001b[0m\u001b[0;34m)\u001b[0m\u001b[0;34m\u001b[0m\u001b[0;34m\u001b[0m\u001b[0m\n\u001b[0m\u001b[1;32m    182\u001b[0m \u001b[0;34m\u001b[0m\u001b[0m\n\u001b[1;32m    183\u001b[0m                 \u001b[0;32mif\u001b[0m \u001b[0;32mnot\u001b[0m \u001b[0mhasattr\u001b[0m\u001b[0;34m(\u001b[0m\u001b[0mgenerator_output\u001b[0m\u001b[0;34m,\u001b[0m \u001b[0;34m'__len__'\u001b[0m\u001b[0;34m)\u001b[0m\u001b[0;34m:\u001b[0m\u001b[0;34m\u001b[0m\u001b[0;34m\u001b[0m\u001b[0m\n",
            "\u001b[0;32m/usr/local/lib/python3.6/dist-packages/keras/utils/data_utils.py\u001b[0m in \u001b[0;36mget\u001b[0;34m(self)\u001b[0m\n\u001b[1;32m    683\u001b[0m         \u001b[0;32mtry\u001b[0m\u001b[0;34m:\u001b[0m\u001b[0;34m\u001b[0m\u001b[0;34m\u001b[0m\u001b[0m\n\u001b[1;32m    684\u001b[0m             \u001b[0;32mwhile\u001b[0m \u001b[0mself\u001b[0m\u001b[0;34m.\u001b[0m\u001b[0mis_running\u001b[0m\u001b[0;34m(\u001b[0m\u001b[0;34m)\u001b[0m\u001b[0;34m:\u001b[0m\u001b[0;34m\u001b[0m\u001b[0;34m\u001b[0m\u001b[0m\n\u001b[0;32m--> 685\u001b[0;31m                 \u001b[0minputs\u001b[0m \u001b[0;34m=\u001b[0m \u001b[0mself\u001b[0m\u001b[0;34m.\u001b[0m\u001b[0mqueue\u001b[0m\u001b[0;34m.\u001b[0m\u001b[0mget\u001b[0m\u001b[0;34m(\u001b[0m\u001b[0mblock\u001b[0m\u001b[0;34m=\u001b[0m\u001b[0;32mTrue\u001b[0m\u001b[0;34m)\u001b[0m\u001b[0;34m.\u001b[0m\u001b[0mget\u001b[0m\u001b[0;34m(\u001b[0m\u001b[0;34m)\u001b[0m\u001b[0;34m\u001b[0m\u001b[0;34m\u001b[0m\u001b[0m\n\u001b[0m\u001b[1;32m    686\u001b[0m                 \u001b[0mself\u001b[0m\u001b[0;34m.\u001b[0m\u001b[0mqueue\u001b[0m\u001b[0;34m.\u001b[0m\u001b[0mtask_done\u001b[0m\u001b[0;34m(\u001b[0m\u001b[0;34m)\u001b[0m\u001b[0;34m\u001b[0m\u001b[0;34m\u001b[0m\u001b[0m\n\u001b[1;32m    687\u001b[0m                 \u001b[0;32mif\u001b[0m \u001b[0minputs\u001b[0m \u001b[0;32mis\u001b[0m \u001b[0;32mnot\u001b[0m \u001b[0;32mNone\u001b[0m\u001b[0;34m:\u001b[0m\u001b[0;34m\u001b[0m\u001b[0;34m\u001b[0m\u001b[0m\n",
            "\u001b[0;32m/usr/lib/python3.6/multiprocessing/pool.py\u001b[0m in \u001b[0;36mget\u001b[0;34m(self, timeout)\u001b[0m\n\u001b[1;32m    636\u001b[0m \u001b[0;34m\u001b[0m\u001b[0m\n\u001b[1;32m    637\u001b[0m     \u001b[0;32mdef\u001b[0m \u001b[0mget\u001b[0m\u001b[0;34m(\u001b[0m\u001b[0mself\u001b[0m\u001b[0;34m,\u001b[0m \u001b[0mtimeout\u001b[0m\u001b[0;34m=\u001b[0m\u001b[0;32mNone\u001b[0m\u001b[0;34m)\u001b[0m\u001b[0;34m:\u001b[0m\u001b[0;34m\u001b[0m\u001b[0;34m\u001b[0m\u001b[0m\n\u001b[0;32m--> 638\u001b[0;31m         \u001b[0mself\u001b[0m\u001b[0;34m.\u001b[0m\u001b[0mwait\u001b[0m\u001b[0;34m(\u001b[0m\u001b[0mtimeout\u001b[0m\u001b[0;34m)\u001b[0m\u001b[0;34m\u001b[0m\u001b[0;34m\u001b[0m\u001b[0m\n\u001b[0m\u001b[1;32m    639\u001b[0m         \u001b[0;32mif\u001b[0m \u001b[0;32mnot\u001b[0m \u001b[0mself\u001b[0m\u001b[0;34m.\u001b[0m\u001b[0mready\u001b[0m\u001b[0;34m(\u001b[0m\u001b[0;34m)\u001b[0m\u001b[0;34m:\u001b[0m\u001b[0;34m\u001b[0m\u001b[0;34m\u001b[0m\u001b[0m\n\u001b[1;32m    640\u001b[0m             \u001b[0;32mraise\u001b[0m \u001b[0mTimeoutError\u001b[0m\u001b[0;34m\u001b[0m\u001b[0;34m\u001b[0m\u001b[0m\n",
            "\u001b[0;32m/usr/lib/python3.6/multiprocessing/pool.py\u001b[0m in \u001b[0;36mwait\u001b[0;34m(self, timeout)\u001b[0m\n\u001b[1;32m    633\u001b[0m \u001b[0;34m\u001b[0m\u001b[0m\n\u001b[1;32m    634\u001b[0m     \u001b[0;32mdef\u001b[0m \u001b[0mwait\u001b[0m\u001b[0;34m(\u001b[0m\u001b[0mself\u001b[0m\u001b[0;34m,\u001b[0m \u001b[0mtimeout\u001b[0m\u001b[0;34m=\u001b[0m\u001b[0;32mNone\u001b[0m\u001b[0;34m)\u001b[0m\u001b[0;34m:\u001b[0m\u001b[0;34m\u001b[0m\u001b[0;34m\u001b[0m\u001b[0m\n\u001b[0;32m--> 635\u001b[0;31m         \u001b[0mself\u001b[0m\u001b[0;34m.\u001b[0m\u001b[0m_event\u001b[0m\u001b[0;34m.\u001b[0m\u001b[0mwait\u001b[0m\u001b[0;34m(\u001b[0m\u001b[0mtimeout\u001b[0m\u001b[0;34m)\u001b[0m\u001b[0;34m\u001b[0m\u001b[0;34m\u001b[0m\u001b[0m\n\u001b[0m\u001b[1;32m    636\u001b[0m \u001b[0;34m\u001b[0m\u001b[0m\n\u001b[1;32m    637\u001b[0m     \u001b[0;32mdef\u001b[0m \u001b[0mget\u001b[0m\u001b[0;34m(\u001b[0m\u001b[0mself\u001b[0m\u001b[0;34m,\u001b[0m \u001b[0mtimeout\u001b[0m\u001b[0;34m=\u001b[0m\u001b[0;32mNone\u001b[0m\u001b[0;34m)\u001b[0m\u001b[0;34m:\u001b[0m\u001b[0;34m\u001b[0m\u001b[0;34m\u001b[0m\u001b[0m\n",
            "\u001b[0;32m/usr/lib/python3.6/threading.py\u001b[0m in \u001b[0;36mwait\u001b[0;34m(self, timeout)\u001b[0m\n\u001b[1;32m    549\u001b[0m             \u001b[0msignaled\u001b[0m \u001b[0;34m=\u001b[0m \u001b[0mself\u001b[0m\u001b[0;34m.\u001b[0m\u001b[0m_flag\u001b[0m\u001b[0;34m\u001b[0m\u001b[0;34m\u001b[0m\u001b[0m\n\u001b[1;32m    550\u001b[0m             \u001b[0;32mif\u001b[0m \u001b[0;32mnot\u001b[0m \u001b[0msignaled\u001b[0m\u001b[0;34m:\u001b[0m\u001b[0;34m\u001b[0m\u001b[0;34m\u001b[0m\u001b[0m\n\u001b[0;32m--> 551\u001b[0;31m                 \u001b[0msignaled\u001b[0m \u001b[0;34m=\u001b[0m \u001b[0mself\u001b[0m\u001b[0;34m.\u001b[0m\u001b[0m_cond\u001b[0m\u001b[0;34m.\u001b[0m\u001b[0mwait\u001b[0m\u001b[0;34m(\u001b[0m\u001b[0mtimeout\u001b[0m\u001b[0;34m)\u001b[0m\u001b[0;34m\u001b[0m\u001b[0;34m\u001b[0m\u001b[0m\n\u001b[0m\u001b[1;32m    552\u001b[0m             \u001b[0;32mreturn\u001b[0m \u001b[0msignaled\u001b[0m\u001b[0;34m\u001b[0m\u001b[0;34m\u001b[0m\u001b[0m\n\u001b[1;32m    553\u001b[0m \u001b[0;34m\u001b[0m\u001b[0m\n",
            "\u001b[0;32m/usr/lib/python3.6/threading.py\u001b[0m in \u001b[0;36mwait\u001b[0;34m(self, timeout)\u001b[0m\n\u001b[1;32m    293\u001b[0m         \u001b[0;32mtry\u001b[0m\u001b[0;34m:\u001b[0m    \u001b[0;31m# restore state no matter what (e.g., KeyboardInterrupt)\u001b[0m\u001b[0;34m\u001b[0m\u001b[0;34m\u001b[0m\u001b[0m\n\u001b[1;32m    294\u001b[0m             \u001b[0;32mif\u001b[0m \u001b[0mtimeout\u001b[0m \u001b[0;32mis\u001b[0m \u001b[0;32mNone\u001b[0m\u001b[0;34m:\u001b[0m\u001b[0;34m\u001b[0m\u001b[0;34m\u001b[0m\u001b[0m\n\u001b[0;32m--> 295\u001b[0;31m                 \u001b[0mwaiter\u001b[0m\u001b[0;34m.\u001b[0m\u001b[0macquire\u001b[0m\u001b[0;34m(\u001b[0m\u001b[0;34m)\u001b[0m\u001b[0;34m\u001b[0m\u001b[0;34m\u001b[0m\u001b[0m\n\u001b[0m\u001b[1;32m    296\u001b[0m                 \u001b[0mgotit\u001b[0m \u001b[0;34m=\u001b[0m \u001b[0;32mTrue\u001b[0m\u001b[0;34m\u001b[0m\u001b[0;34m\u001b[0m\u001b[0m\n\u001b[1;32m    297\u001b[0m             \u001b[0;32melse\u001b[0m\u001b[0;34m:\u001b[0m\u001b[0;34m\u001b[0m\u001b[0;34m\u001b[0m\u001b[0m\n",
            "\u001b[0;31mKeyboardInterrupt\u001b[0m: "
          ]
        }
      ]
    },
    {
      "cell_type": "code",
      "metadata": {
        "id": "rPpAPDMjnHcD",
        "colab_type": "code",
        "colab": {
          "base_uri": "https://localhost:8080/",
          "height": 35
        },
        "outputId": "1b94f59c-9b4e-4962-f6e2-4c3e59c4e2ab"
      },
      "source": [
        "img.shape"
      ],
      "execution_count": 21,
      "outputs": [
        {
          "output_type": "execute_result",
          "data": {
            "text/plain": [
              "(100, 100, 3)"
            ]
          },
          "metadata": {
            "tags": []
          },
          "execution_count": 21
        }
      ]
    },
    {
      "cell_type": "code",
      "metadata": {
        "id": "yTCOEtv0prae",
        "colab_type": "code",
        "colab": {}
      },
      "source": [
        "img = img.reshape(1,100,100,3)"
      ],
      "execution_count": 0,
      "outputs": []
    },
    {
      "cell_type": "code",
      "metadata": {
        "id": "cHhxRpR-pxa3",
        "colab_type": "code",
        "colab": {}
      },
      "source": [
        "pred = np.argmax(model.predict(img),axis=1)[0]"
      ],
      "execution_count": 0,
      "outputs": []
    },
    {
      "cell_type": "code",
      "metadata": {
        "id": "vLzyF0-gpy8D",
        "colab_type": "code",
        "colab": {
          "base_uri": "https://localhost:8080/",
          "height": 53
        },
        "outputId": "a368d8a6-8df1-4351-d311-93ca95f55dfc"
      },
      "source": [
        "name2idx = train_loader.class_indices\n",
        "idx2name = dict( (name2idx[k],k) for k in name2idx.keys())\n",
        "print(idx2name)\n",
        "print(name2idx)"
      ],
      "execution_count": 38,
      "outputs": [
        {
          "output_type": "stream",
          "text": [
            "{0: 'Balbasaur', 1: 'Charmender', 2: 'Pikachu'}\n",
            "{'Balbasaur': 0, 'Charmender': 1, 'Pikachu': 2}\n"
          ],
          "name": "stdout"
        }
      ]
    },
    {
      "cell_type": "code",
      "metadata": {
        "id": "npnxMkgGqEj3",
        "colab_type": "code",
        "colab": {
          "base_uri": "https://localhost:8080/",
          "height": 35
        },
        "outputId": "e8ba591b-f77d-4e40-cf55-e17c2e4c2e23"
      },
      "source": [
        "output = idx2name[pred]\n",
        "print(output)"
      ],
      "execution_count": 43,
      "outputs": [
        {
          "output_type": "stream",
          "text": [
            "Balbasaur\n"
          ],
          "name": "stdout"
        }
      ]
    },
    {
      "cell_type": "code",
      "metadata": {
        "id": "Brcozh44rGus",
        "colab_type": "code",
        "colab": {}
      },
      "source": [
        ""
      ],
      "execution_count": 0,
      "outputs": []
    }
  ]
}